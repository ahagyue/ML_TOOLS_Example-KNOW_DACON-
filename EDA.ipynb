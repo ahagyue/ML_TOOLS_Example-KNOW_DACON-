{
 "cells": [
  {
   "cell_type": "code",
   "execution_count": 2,
   "metadata": {
    "executionInfo": {
     "elapsed": 4,
     "status": "ok",
     "timestamp": 1640954347592,
     "user": {
      "displayName": "강민규",
      "photoUrl": "https://lh3.googleusercontent.com/a/default-user=s64",
      "userId": "00315736574293164168"
     },
     "user_tz": -540
    },
    "id": "VEO-H4BPxxHL"
   },
   "outputs": [],
   "source": [
    "import numpy as np\n",
    "import pandas as pd\n",
    "from matplotlib import pyplot as plt"
   ]
  },
  {
   "cell_type": "markdown",
   "metadata": {
    "id": "mf2HVJksypFO"
   },
   "source": [
    "Read CSV"
   ]
  },
  {
   "cell_type": "code",
   "execution_count": 3,
   "metadata": {
    "colab": {
     "base_uri": "https://localhost:8080/",
     "height": 0
    },
    "executionInfo": {
     "elapsed": 514,
     "status": "error",
     "timestamp": 1640954942837,
     "user": {
      "displayName": "강민규",
      "photoUrl": "https://lh3.googleusercontent.com/a/default-user=s64",
      "userId": "00315736574293164168"
     },
     "user_tz": -540
    },
    "id": "AcpdF1cFyVJI",
    "outputId": "a213439f-383f-4f9a-a43d-be1364286f07"
   },
   "outputs": [
    {
     "data": {
      "text/html": [
       "<div>\n",
       "<style scoped>\n",
       "    .dataframe tbody tr th:only-of-type {\n",
       "        vertical-align: middle;\n",
       "    }\n",
       "\n",
       "    .dataframe tbody tr th {\n",
       "        vertical-align: top;\n",
       "    }\n",
       "\n",
       "    .dataframe thead th {\n",
       "        text-align: right;\n",
       "    }\n",
       "</style>\n",
       "<table border=\"1\" class=\"dataframe\">\n",
       "  <thead>\n",
       "    <tr style=\"text-align: right;\">\n",
       "      <th></th>\n",
       "      <th>idx</th>\n",
       "      <th>aq1_1</th>\n",
       "      <th>aq1_2</th>\n",
       "      <th>aq2_1</th>\n",
       "      <th>aq2_2</th>\n",
       "      <th>aq3_1</th>\n",
       "      <th>aq3_2</th>\n",
       "      <th>aq4_1</th>\n",
       "      <th>aq4_2</th>\n",
       "      <th>aq5_1</th>\n",
       "      <th>...</th>\n",
       "      <th>bq37</th>\n",
       "      <th>bq38</th>\n",
       "      <th>bq38_1</th>\n",
       "      <th>bq39_1</th>\n",
       "      <th>bq39_2</th>\n",
       "      <th>bq40</th>\n",
       "      <th>bq41_1</th>\n",
       "      <th>bq41_2</th>\n",
       "      <th>bq41_3</th>\n",
       "      <th>knowcode</th>\n",
       "    </tr>\n",
       "  </thead>\n",
       "  <tbody>\n",
       "    <tr>\n",
       "      <th>0</th>\n",
       "      <td>0</td>\n",
       "      <td>3</td>\n",
       "      <td>3</td>\n",
       "      <td>3</td>\n",
       "      <td>3</td>\n",
       "      <td>3</td>\n",
       "      <td>3</td>\n",
       "      <td>4</td>\n",
       "      <td>4</td>\n",
       "      <td>3</td>\n",
       "      <td>...</td>\n",
       "      <td>52</td>\n",
       "      <td>2</td>\n",
       "      <td>실업</td>\n",
       "      <td>1</td>\n",
       "      <td>1</td>\n",
       "      <td>1</td>\n",
       "      <td>4000</td>\n",
       "      <td>0</td>\n",
       "      <td>2200</td>\n",
       "      <td>825101</td>\n",
       "    </tr>\n",
       "    <tr>\n",
       "      <th>1</th>\n",
       "      <td>1</td>\n",
       "      <td>4</td>\n",
       "      <td>5</td>\n",
       "      <td>4</td>\n",
       "      <td>5</td>\n",
       "      <td>3</td>\n",
       "      <td>4</td>\n",
       "      <td>3</td>\n",
       "      <td>4</td>\n",
       "      <td>3</td>\n",
       "      <td>...</td>\n",
       "      <td>38</td>\n",
       "      <td>4</td>\n",
       "      <td>건축공학</td>\n",
       "      <td>1</td>\n",
       "      <td>1</td>\n",
       "      <td>1</td>\n",
       "      <td>0</td>\n",
       "      <td>0</td>\n",
       "      <td>2400</td>\n",
       "      <td>140204</td>\n",
       "    </tr>\n",
       "    <tr>\n",
       "      <th>2</th>\n",
       "      <td>2</td>\n",
       "      <td>3</td>\n",
       "      <td>4</td>\n",
       "      <td>3</td>\n",
       "      <td>4</td>\n",
       "      <td>3</td>\n",
       "      <td>4</td>\n",
       "      <td>5</td>\n",
       "      <td>6</td>\n",
       "      <td>4</td>\n",
       "      <td>...</td>\n",
       "      <td>50</td>\n",
       "      <td>4</td>\n",
       "      <td>건축공학</td>\n",
       "      <td>1</td>\n",
       "      <td>1</td>\n",
       "      <td>1</td>\n",
       "      <td>4000</td>\n",
       "      <td>0</td>\n",
       "      <td>2400</td>\n",
       "      <td>140204</td>\n",
       "    </tr>\n",
       "    <tr>\n",
       "      <th>3</th>\n",
       "      <td>3</td>\n",
       "      <td>3</td>\n",
       "      <td>3</td>\n",
       "      <td>3</td>\n",
       "      <td>3</td>\n",
       "      <td>3</td>\n",
       "      <td>5</td>\n",
       "      <td>4</td>\n",
       "      <td>5</td>\n",
       "      <td>4</td>\n",
       "      <td>...</td>\n",
       "      <td>42</td>\n",
       "      <td>4</td>\n",
       "      <td>환경학과</td>\n",
       "      <td>1</td>\n",
       "      <td>1</td>\n",
       "      <td>1</td>\n",
       "      <td>7000</td>\n",
       "      <td>0</td>\n",
       "      <td>3500</td>\n",
       "      <td>140601</td>\n",
       "    </tr>\n",
       "    <tr>\n",
       "      <th>4</th>\n",
       "      <td>4</td>\n",
       "      <td>4</td>\n",
       "      <td>5</td>\n",
       "      <td>3</td>\n",
       "      <td>4</td>\n",
       "      <td>3</td>\n",
       "      <td>4</td>\n",
       "      <td>4</td>\n",
       "      <td>5</td>\n",
       "      <td>3</td>\n",
       "      <td>...</td>\n",
       "      <td>51</td>\n",
       "      <td>4</td>\n",
       "      <td>건축공학</td>\n",
       "      <td>1</td>\n",
       "      <td>1</td>\n",
       "      <td>1</td>\n",
       "      <td>4000</td>\n",
       "      <td>0</td>\n",
       "      <td>2500</td>\n",
       "      <td>140204</td>\n",
       "    </tr>\n",
       "  </tbody>\n",
       "</table>\n",
       "<p>5 rows × 156 columns</p>\n",
       "</div>"
      ],
      "text/plain": [
       "   idx  aq1_1 aq1_2  aq2_1 aq2_2  aq3_1 aq3_2  aq4_1 aq4_2  aq5_1  ... bq37  \\\n",
       "0    0      3     3      3     3      3     3      4     4      3  ...   52   \n",
       "1    1      4     5      4     5      3     4      3     4      3  ...   38   \n",
       "2    2      3     4      3     4      3     4      5     6      4  ...   50   \n",
       "3    3      3     3      3     3      3     5      4     5      4  ...   42   \n",
       "4    4      4     5      3     4      3     4      4     5      3  ...   51   \n",
       "\n",
       "   bq38 bq38_1  bq39_1 bq39_2  bq40 bq41_1  bq41_2 bq41_3  knowcode  \n",
       "0     2     실업       1      1     1   4000       0   2200    825101  \n",
       "1     4   건축공학       1      1     1      0       0   2400    140204  \n",
       "2     4   건축공학       1      1     1   4000       0   2400    140204  \n",
       "3     4   환경학과       1      1     1   7000       0   3500    140601  \n",
       "4     4   건축공학       1      1     1   4000       0   2500    140204  \n",
       "\n",
       "[5 rows x 156 columns]"
      ]
     },
     "execution_count": 3,
     "metadata": {},
     "output_type": "execute_result"
    }
   ],
   "source": [
    "df = pd.read_csv('D:/DIYA/SERVER/KNOW_dacon/KNOW_data/train/KNOW_2017.csv')\n",
    "df = df.replace(' ', '0')\n",
    "feature_name = list(df.columns.values)\n",
    "df.head()"
   ]
  },
  {
   "cell_type": "markdown",
   "metadata": {
    "id": "dv92Fwlk2jb2"
   },
   "source": [
    "Preprocessing for EDA"
   ]
  },
  {
   "cell_type": "code",
   "execution_count": 20,
   "metadata": {
    "colab": {
     "base_uri": "https://localhost:8080/"
    },
    "executionInfo": {
     "elapsed": 1147,
     "status": "ok",
     "timestamp": 1640954350799,
     "user": {
      "displayName": "강민규",
      "photoUrl": "https://lh3.googleusercontent.com/a/default-user=s64",
      "userId": "00315736574293164168"
     },
     "user_tz": -540
    },
    "id": "yJtDuXHEyk5w",
    "outputId": "46d491d0-509d-43ca-de31-51e63e5da937"
   },
   "outputs": [
    {
     "name": "stdout",
     "output_type": "stream",
     "text": [
      "string data shape : \t(9486, 11)\n",
      "numeric data shape : \t(9486, 143)\n",
      "number of classes : \t538\n"
     ]
    },
    {
     "data": {
      "text/plain": [
       "(9486, 156)"
      ]
     },
     "execution_count": 20,
     "metadata": {},
     "output_type": "execute_result"
    }
   ],
   "source": [
    "from sklearn.preprocessing import LabelEncoder, OneHotEncoder\n",
    "\n",
    "str_list = [87, 88, 89, 92, 121, 139, 140, 141, 142, 143, 148] # string data index\n",
    "\n",
    "np_data = np.array(df) # data frame to numpy\n",
    "\n",
    "labels = np_data[:, -1:].reshape(-1)\n",
    "str_data = np_data[:, str_list]\n",
    "num_data = np.delete(np_data, str_list, 1)[:, 1:-1].astype(int)\n",
    "num_data = num_data / np.max(num_data, axis = 0) # normalization\n",
    "\n",
    "#encoding label\n",
    "label_encoder = LabelEncoder()\n",
    "label_encoder.fit(labels)          # number of class : 538\n",
    "encoded_labels = label_encoder.transform(labels)\n",
    "\n",
    "#one-hot encoding\n",
    "one_hot_enc = OneHotEncoder()\n",
    "one_hot_enc.fit(encoded_labels.reshape(-1, 1))\n",
    "one_hot_labels = one_hot_enc.transform(encoded_labels.reshape(-1, 1)).toarray()\n",
    "\n",
    "print(\"string data shape : \\t{}\".format(str_data.shape))\n",
    "print(\"numeric data shape : \\t{}\".format(num_data.shape))\n",
    "print(\"number of classes : \\t{}\".format(len(label_encoder.classes_)))\n",
    "np_data.shape"
   ]
  },
  {
   "cell_type": "markdown",
   "metadata": {
    "id": "L1fJTNHpNqun"
   },
   "source": [
    "Label Distribution"
   ]
  },
  {
   "cell_type": "code",
   "execution_count": 6,
   "metadata": {
    "colab": {
     "base_uri": "https://localhost:8080/",
     "height": 269
    },
    "executionInfo": {
     "elapsed": 3002,
     "status": "ok",
     "timestamp": 1640954353799,
     "user": {
      "displayName": "강민규",
      "photoUrl": "https://lh3.googleusercontent.com/a/default-user=s64",
      "userId": "00315736574293164168"
     },
     "user_tz": -540
    },
    "id": "z5A5rQvHW5JC",
    "outputId": "109ffb14-f38d-40cf-9ef4-fbc6662f2c62"
   },
   "outputs": [
    {
     "data": {
      "image/png": "[encoded data removed]",
      "text/plain": [
       "<Figure size 432x288 with 1 Axes>"
      ]
     },
     "metadata": {
      "needs_background": "light"
     },
     "output_type": "display_data"
    }
   ],
   "source": [
    "plt.hist(encoded_labels, bins=range(539))\n",
    "plt.ylim(0, 50)\n",
    "plt.show()"
   ]
  },
  {
   "cell_type": "markdown",
   "metadata": {
    "id": "I6MlKQCXbSZx"
   },
   "source": [
    "PCA and tSNE"
   ]
  },
  {
   "cell_type": "code",
   "execution_count": 7,
   "metadata": {
    "executionInfo": {
     "elapsed": 360,
     "status": "ok",
     "timestamp": 1640954407724,
     "user": {
      "displayName": "강민규",
      "photoUrl": "https://lh3.googleusercontent.com/a/default-user=s64",
      "userId": "00315736574293164168"
     },
     "user_tz": -540
    },
    "id": "TEFkbrcEonY6"
   },
   "outputs": [],
   "source": [
    "from sklearn.decomposition import PCA\n",
    "from sklearn.manifold import TSNE"
   ]
  },
  {
   "cell_type": "code",
   "execution_count": 8,
   "metadata": {
    "executionInfo": {
     "elapsed": 534,
     "status": "ok",
     "timestamp": 1640954412028,
     "user": {
      "displayName": "강민규",
      "photoUrl": "https://lh3.googleusercontent.com/a/default-user=s64",
      "userId": "00315736574293164168"
     },
     "user_tz": -540
    },
    "id": "_-UxnrmBbR3D"
   },
   "outputs": [],
   "source": [
    " # PCA and tSNE with random 10 classes\n",
    "\n",
    "random_classes = np.random.choice(537, 10, replace=False) # choice 10 classes randomly\n",
    "# random_classes = label_encoder.transform(np.array([ ... ]))\n",
    "#                               <-- user setting (lenght should be less than 10)\n",
    "decoded_random_classes = label_encoder.inverse_transform(random_classes).astype(str)\n",
    "filter = np.in1d(encoded_labels, random_classes)"
   ]
  },
  {
   "cell_type": "code",
   "execution_count": 9,
   "metadata": {
    "colab": {
     "base_uri": "https://localhost:8080/",
     "height": 404
    },
    "executionInfo": {
     "elapsed": 1260,
     "status": "ok",
     "timestamp": 1640954413828,
     "user": {
      "displayName": "강민규",
      "photoUrl": "https://lh3.googleusercontent.com/a/default-user=s64",
      "userId": "00315736574293164168"
     },
     "user_tz": -540
    },
    "id": "530c938xmZUs",
    "outputId": "68fe894b-d4c9-487e-d127-92f0453555b2"
   },
   "outputs": [
    {
     "data": {
      "image/png": "[encoded data removed]",
      "text/plain": [
       "<Figure size 576x432 with 1 Axes>"
      ]
     },
     "metadata": {
      "needs_background": "light"
     },
     "output_type": "display_data"
    }
   ],
   "source": [
    "pca = PCA(n_components = 2)   # 2 dim\n",
    "colors = ['black', 'blue', 'purple', 'yellow', 'magenta', 'red', 'lime', 'cyan', 'orange', 'gray']\n",
    "\n",
    "pca_data = pca.fit_transform(num_data[filter, :])\n",
    "pca_labels = encoded_labels[filter]\n",
    "\n",
    "plt.figure(figsize=(8, 6))\n",
    "for idx, class_ in enumerate(random_classes):\n",
    "    x = pca_data[pca_labels == class_, 0]\n",
    "    y = pca_data[pca_labels == class_, 1]\n",
    "    plt.scatter(x, y, c = colors[idx], alpha = 0.4)\n",
    "\n",
    "plt.xlabel('x')\n",
    "plt.ylabel('y')\n",
    "plt.title('PCA in 2d')\n",
    "plt.legend(decoded_random_classes, bbox_to_anchor=(1.02, 1), loc=2, borderaxespad=0.)\n",
    "plt.show()"
   ]
  },
  {
   "cell_type": "code",
   "execution_count": 10,
   "metadata": {
    "colab": {
     "base_uri": "https://localhost:8080/",
     "height": 477
    },
    "executionInfo": {
     "elapsed": 1938,
     "status": "ok",
     "timestamp": 1640954415760,
     "user": {
      "displayName": "강민규",
      "photoUrl": "https://lh3.googleusercontent.com/a/default-user=s64",
      "userId": "00315736574293164168"
     },
     "user_tz": -540
    },
    "id": "047OFN9qmlse",
    "outputId": "9b283db3-128b-4fef-9e42-4ce2cff1077e"
   },
   "outputs": [
    {
     "data": {
      "image/png": "[encoded data removed]",
      "text/plain": [
       "<Figure size 576x432 with 1 Axes>"
      ]
     },
     "metadata": {
      "needs_background": "light"
     },
     "output_type": "display_data"
    }
   ],
   "source": [
    "tsne = TSNE(n_components = 2)   # 2 dim\n",
    "colors = ['black', 'blue', 'purple', 'yellow', 'magenta', 'red', 'lime', 'cyan', 'orange', 'gray']\n",
    "\n",
    "tsne_data = tsne.fit_transform(num_data[filter, :])\n",
    "tsne_labels = encoded_labels[filter]\n",
    "\n",
    "plt.figure(figsize=(8, 6))\n",
    "for idx, class_ in enumerate(random_classes):\n",
    "    x = tsne_data[tsne_labels == class_, 0]\n",
    "    y = tsne_data[tsne_labels == class_, 1]\n",
    "    plt.scatter(x, y, c = colors[idx], alpha = 0.4)\n",
    "\n",
    "plt.xlabel('x')\n",
    "plt.ylabel('y')\n",
    "plt.title('tSNE in 2d')\n",
    "plt.legend(decoded_random_classes, bbox_to_anchor=(1.02, 1), loc=2, borderaxespad=0.)\n",
    "plt.show()"
   ]
  },
  {
   "cell_type": "markdown",
   "metadata": {
    "id": "GdxdYrzESftS"
   },
   "source": [
    "Simple Network Training"
   ]
  },
  {
   "cell_type": "code",
   "execution_count": 11,
   "metadata": {
    "executionInfo": {
     "elapsed": 2328,
     "status": "ok",
     "timestamp": 1640954418079,
     "user": {
      "displayName": "강민규",
      "photoUrl": "https://lh3.googleusercontent.com/a/default-user=s64",
      "userId": "00315736574293164168"
     },
     "user_tz": -540
    },
    "id": "8USkvebhohgf"
   },
   "outputs": [],
   "source": [
    "from keras.models import Sequential\n",
    "from keras.layers import Dense, Activation, Dropout, BatchNormalization\n",
    "from tensorflow.keras import optimizers\n",
    "from keras.initializers import HeNormal"
   ]
  },
  {
   "cell_type": "code",
   "execution_count": 12,
   "metadata": {
    "executionInfo": {
     "elapsed": 16,
     "status": "ok",
     "timestamp": 1640954418080,
     "user": {
      "displayName": "강민규",
      "photoUrl": "https://lh3.googleusercontent.com/a/default-user=s64",
      "userId": "00315736574293164168"
     },
     "user_tz": -540
    },
    "id": "2-9WYuOa5Hvs"
   },
   "outputs": [],
   "source": [
    "# train / validation data seperation (will be used to train dection tree)\n",
    "train_features = num_data[:6000, :]\n",
    "val_features = num_data[6000:, :]\n",
    "\n",
    "train_label = one_hot_labels[:6000, :]\n",
    "val_label = one_hot_labels[6000:, :]"
   ]
  },
  {
   "cell_type": "code",
   "execution_count": 13,
   "metadata": {
    "colab": {
     "base_uri": "https://localhost:8080/"
    },
    "executionInfo": {
     "elapsed": 326449,
     "status": "ok",
     "timestamp": 1640954746963,
     "user": {
      "displayName": "강민규",
      "photoUrl": "https://lh3.googleusercontent.com/a/default-user=s64",
      "userId": "00315736574293164168"
     },
     "user_tz": -540
    },
    "id": "bHghqss5ADej",
    "outputId": "5100d998-a737-4597-fc59-65e2ff32a55d"
   },
   "outputs": [
    {
     "name": "stderr",
     "output_type": "stream",
     "text": [
      "/home/ahagyue/anaconda3/lib/python3.8/site-packages/keras/optimizer_v2/optimizer_v2.py:355: UserWarning: The `lr` argument is deprecated, use `learning_rate` instead.\n",
      "  warnings.warn(\n"
     ]
    },
    {
     "name": "stdout",
     "output_type": "stream",
     "text": [
      "Epoch 1/50\n",
      "750/750 [==============================] - 2s 2ms/step - loss: 6.1892 - accuracy: 0.0403 - val_loss: 7.8572 - val_accuracy: 0.0380\n",
      "Epoch 2/50\n",
      "750/750 [==============================] - 1s 1ms/step - loss: 4.4950 - accuracy: 0.1148 - val_loss: 6.3893 - val_accuracy: 0.0896\n",
      "Epoch 3/50\n",
      "750/750 [==============================] - 1s 1ms/step - loss: 3.7921 - accuracy: 0.1955 - val_loss: 9.6721 - val_accuracy: 0.0612\n",
      "Epoch 4/50\n",
      "750/750 [==============================] - 1s 1ms/step - loss: 3.3728 - accuracy: 0.2527 - val_loss: 5.5311 - val_accuracy: 0.1179\n",
      "Epoch 5/50\n",
      "750/750 [==============================] - 1s 1ms/step - loss: 3.0245 - accuracy: 0.3053 - val_loss: 5.5500 - val_accuracy: 0.1379\n",
      "Epoch 6/50\n",
      "750/750 [==============================] - 1s 1ms/step - loss: 2.7496 - accuracy: 0.3548 - val_loss: 9.1066 - val_accuracy: 0.0673\n",
      "Epoch 7/50\n",
      "750/750 [==============================] - 1s 1ms/step - loss: 2.5240 - accuracy: 0.3915 - val_loss: 4.6029 - val_accuracy: 0.2091\n",
      "Epoch 8/50\n",
      "750/750 [==============================] - 1s 2ms/step - loss: 2.3409 - accuracy: 0.4307 - val_loss: 8.8884 - val_accuracy: 0.0876\n",
      "Epoch 9/50\n",
      "750/750 [==============================] - 1s 1ms/step - loss: 2.1878 - accuracy: 0.4580 - val_loss: 4.9307 - val_accuracy: 0.2152\n",
      "Epoch 10/50\n",
      "750/750 [==============================] - 1s 2ms/step - loss: 2.0167 - accuracy: 0.4850 - val_loss: 4.7761 - val_accuracy: 0.2336\n",
      "Epoch 11/50\n",
      "750/750 [==============================] - 1s 1ms/step - loss: 1.8476 - accuracy: 0.5260 - val_loss: 5.7152 - val_accuracy: 0.2017\n",
      "Epoch 12/50\n",
      "750/750 [==============================] - 1s 1ms/step - loss: 1.7053 - accuracy: 0.5543 - val_loss: 9.2163 - val_accuracy: 0.1321\n",
      "Epoch 13/50\n",
      "750/750 [==============================] - 1s 1ms/step - loss: 1.5439 - accuracy: 0.5872 - val_loss: 5.0293 - val_accuracy: 0.2668\n",
      "Epoch 14/50\n",
      "750/750 [==============================] - 1s 1ms/step - loss: 1.4528 - accuracy: 0.5972 - val_loss: 6.6150 - val_accuracy: 0.2226\n",
      "Epoch 15/50\n",
      "750/750 [==============================] - 1s 1ms/step - loss: 1.3158 - accuracy: 0.6277 - val_loss: 5.2564 - val_accuracy: 0.2684\n",
      "Epoch 16/50\n",
      "750/750 [==============================] - 1s 1ms/step - loss: 1.2639 - accuracy: 0.6455 - val_loss: 5.4663 - val_accuracy: 0.2761\n",
      "Epoch 17/50\n",
      "750/750 [==============================] - 1s 2ms/step - loss: 1.1567 - accuracy: 0.6693 - val_loss: 6.5618 - val_accuracy: 0.2207\n",
      "Epoch 18/50\n",
      "750/750 [==============================] - 1s 1ms/step - loss: 1.1071 - accuracy: 0.6823 - val_loss: 5.9558 - val_accuracy: 0.2841\n",
      "Epoch 19/50\n",
      "750/750 [==============================] - 1s 2ms/step - loss: 1.0302 - accuracy: 0.7062 - val_loss: 5.7688 - val_accuracy: 0.2800\n",
      "Epoch 20/50\n",
      "750/750 [==============================] - 1s 1ms/step - loss: 0.9800 - accuracy: 0.7185 - val_loss: 5.8654 - val_accuracy: 0.2774\n",
      "Epoch 21/50\n",
      "750/750 [==============================] - 1s 1ms/step - loss: 0.9223 - accuracy: 0.7332 - val_loss: 5.3458 - val_accuracy: 0.3157\n",
      "Epoch 22/50\n",
      "750/750 [==============================] - 1s 1ms/step - loss: 0.9247 - accuracy: 0.7263 - val_loss: 7.6301 - val_accuracy: 0.2365\n",
      "Epoch 23/50\n",
      "750/750 [==============================] - 1s 2ms/step - loss: 0.8737 - accuracy: 0.7443 - val_loss: 6.2866 - val_accuracy: 0.2603\n",
      "Epoch 24/50\n",
      "750/750 [==============================] - 1s 2ms/step - loss: 0.8297 - accuracy: 0.7558 - val_loss: 6.0869 - val_accuracy: 0.2793\n",
      "Epoch 25/50\n",
      "750/750 [==============================] - 1s 2ms/step - loss: 0.7580 - accuracy: 0.7702 - val_loss: 5.4432 - val_accuracy: 0.3235\n",
      "Epoch 26/50\n",
      "750/750 [==============================] - 1s 1ms/step - loss: 0.7438 - accuracy: 0.7788 - val_loss: 6.1480 - val_accuracy: 0.3044\n",
      "Epoch 27/50\n",
      "750/750 [==============================] - 1s 1ms/step - loss: 0.6743 - accuracy: 0.7985 - val_loss: 6.5760 - val_accuracy: 0.2767\n",
      "Epoch 28/50\n",
      "750/750 [==============================] - 1s 2ms/step - loss: 0.6672 - accuracy: 0.8033 - val_loss: 6.7155 - val_accuracy: 0.2626\n",
      "Epoch 29/50\n",
      "750/750 [==============================] - 1s 1ms/step - loss: 0.6672 - accuracy: 0.8008 - val_loss: 6.5249 - val_accuracy: 0.2796\n",
      "Epoch 30/50\n",
      "750/750 [==============================] - 1s 1ms/step - loss: 0.6386 - accuracy: 0.8113 - val_loss: 5.9913 - val_accuracy: 0.3154\n",
      "Epoch 31/50\n",
      "750/750 [==============================] - 3s 3ms/step - loss: 0.6151 - accuracy: 0.8135 - val_loss: 7.0082 - val_accuracy: 0.2880\n",
      "Epoch 32/50\n",
      "750/750 [==============================] - 1s 2ms/step - loss: 0.5407 - accuracy: 0.8317 - val_loss: 6.5718 - val_accuracy: 0.3138\n",
      "Epoch 33/50\n",
      "750/750 [==============================] - 1s 1ms/step - loss: 0.5248 - accuracy: 0.8368 - val_loss: 6.3335 - val_accuracy: 0.2986\n",
      "Epoch 34/50\n",
      "750/750 [==============================] - 1s 1ms/step - loss: 0.5143 - accuracy: 0.8432 - val_loss: 6.2118 - val_accuracy: 0.3177\n",
      "Epoch 35/50\n",
      "750/750 [==============================] - 2s 3ms/step - loss: 0.5057 - accuracy: 0.8482 - val_loss: 7.1780 - val_accuracy: 0.2935\n",
      "Epoch 36/50\n",
      "750/750 [==============================] - 1s 2ms/step - loss: 0.4881 - accuracy: 0.8473 - val_loss: 6.7871 - val_accuracy: 0.3138\n",
      "Epoch 37/50\n",
      "750/750 [==============================] - 1s 2ms/step - loss: 0.4869 - accuracy: 0.8510 - val_loss: 6.2501 - val_accuracy: 0.3267\n",
      "Epoch 38/50\n",
      "750/750 [==============================] - 1s 1ms/step - loss: 0.4791 - accuracy: 0.8532 - val_loss: 7.0198 - val_accuracy: 0.2951\n",
      "Epoch 39/50\n",
      "750/750 [==============================] - 1s 1ms/step - loss: 0.4357 - accuracy: 0.8630 - val_loss: 6.3365 - val_accuracy: 0.3322\n",
      "Epoch 40/50\n",
      "750/750 [==============================] - 1s 2ms/step - loss: 0.4524 - accuracy: 0.8597 - val_loss: 6.3512 - val_accuracy: 0.3025\n",
      "Epoch 41/50\n",
      "750/750 [==============================] - 1s 1ms/step - loss: 0.4295 - accuracy: 0.8700 - val_loss: 6.4870 - val_accuracy: 0.3196\n",
      "Epoch 42/50\n",
      "750/750 [==============================] - 1s 1ms/step - loss: 0.4087 - accuracy: 0.8808 - val_loss: 6.7169 - val_accuracy: 0.3138\n",
      "Epoch 43/50\n",
      "750/750 [==============================] - 1s 1ms/step - loss: 0.3900 - accuracy: 0.8785 - val_loss: 6.2582 - val_accuracy: 0.3376\n",
      "Epoch 44/50\n",
      "750/750 [==============================] - 1s 1ms/step - loss: 0.4372 - accuracy: 0.8643 - val_loss: 6.0573 - val_accuracy: 0.3341\n",
      "Epoch 45/50\n",
      "750/750 [==============================] - 1s 2ms/step - loss: 0.3852 - accuracy: 0.8795 - val_loss: 7.1600 - val_accuracy: 0.3131\n",
      "Epoch 46/50\n",
      "750/750 [==============================] - 1s 1ms/step - loss: 0.3453 - accuracy: 0.8975 - val_loss: 6.4225 - val_accuracy: 0.3370\n",
      "Epoch 47/50\n",
      "750/750 [==============================] - 1s 1ms/step - loss: 0.3971 - accuracy: 0.8808 - val_loss: 6.1183 - val_accuracy: 0.3563\n",
      "Epoch 48/50\n",
      "750/750 [==============================] - 1s 2ms/step - loss: 0.3402 - accuracy: 0.8940 - val_loss: 6.2676 - val_accuracy: 0.3524\n",
      "Epoch 49/50\n",
      "750/750 [==============================] - 1s 1ms/step - loss: 0.3588 - accuracy: 0.8902 - val_loss: 6.4601 - val_accuracy: 0.3373\n",
      "Epoch 50/50\n",
      "750/750 [==============================] - 1s 1ms/step - loss: 0.3383 - accuracy: 0.8988 - val_loss: 7.4548 - val_accuracy: 0.3003\n"
     ]
    }
   ],
   "source": [
    "model = Sequential([\n",
    "    Dense(200, input_shape=(143,), activation='relu', kernel_initializer=HeNormal()),\n",
    "    Dense(500, activation='relu', kernel_initializer=HeNormal()),\n",
    "    BatchNormalization(),\n",
    "    Dense(500, activation='relu', kernel_initializer=HeNormal()),\n",
    "    BatchNormalization(),\n",
    "    Dense(537, activation='softmax', kernel_initializer=HeNormal())\n",
    "])\n",
    "adam = optimizers.Adam(lr=0.003, decay=5e-5)\n",
    "model.compile(optimizer=adam,\n",
    "              loss='categorical_crossentropy',\n",
    "              metrics=['accuracy'])\n",
    "history = model.fit(train_features, train_label, validation_data=(val_features, val_label), epochs=50, batch_size=8)"
   ]
  },
  {
   "cell_type": "code",
   "execution_count": 14,
   "metadata": {
    "colab": {
     "base_uri": "https://localhost:8080/",
     "height": 313
    },
    "executionInfo": {
     "elapsed": 529,
     "status": "ok",
     "timestamp": 1640954747475,
     "user": {
      "displayName": "강민규",
      "photoUrl": "https://lh3.googleusercontent.com/a/default-user=s64",
      "userId": "00315736574293164168"
     },
     "user_tz": -540
    },
    "id": "-ZaFjDsPpryT",
    "outputId": "f4a9ad25-df0d-4b8d-be41-4a3572526795"
   },
   "outputs": [
    {
     "data": {
      "text/plain": [
       "<matplotlib.legend.Legend at 0x7efbf04160d0>"
      ]
     },
     "execution_count": 14,
     "metadata": {},
     "output_type": "execute_result"
    },
    {
     "data": {
      "image/png": "[encoded data removed]",
      "text/plain": [
       "<Figure size 720x288 with 2 Axes>"
      ]
     },
     "metadata": {
      "needs_background": "light"
     },
     "output_type": "display_data"
    }
   ],
   "source": [
    "epoch = history.epoch\n",
    "train_accuracy = history.history['accuracy']\n",
    "val_accuracy = history.history['val_accuracy']\n",
    "train_loss = history.history['loss']\n",
    "val_loss = history.history['val_loss']\n",
    "\n",
    "plt.figure(figsize=(10,4))\n",
    "plt.subplot(1,2, 1)\n",
    "plt.plot(epoch, train_accuracy)\n",
    "plt.plot(epoch, val_accuracy)\n",
    "plt.title('accuracy')\n",
    "plt.xlabel('epoch')\n",
    "plt.legend(['train accuracy', 'validation accuracy'])\n",
    "\n",
    "plt.subplot(1, 2, 2)\n",
    "plt.plot(epoch, train_loss)\n",
    "plt.plot(epoch, val_loss)\n",
    "plt.title('loss')\n",
    "plt.xlabel('epoch')\n",
    "plt.legend(['train loss', 'validation loss'])"
   ]
  },
  {
   "cell_type": "markdown",
   "metadata": {
    "id": "S0JHZU8xoy2C"
   },
   "source": [
    "Training Decision Tree and Random Forest"
   ]
  },
  {
   "cell_type": "code",
   "execution_count": 15,
   "metadata": {
    "colab": {
     "base_uri": "https://localhost:8080/"
    },
    "executionInfo": {
     "elapsed": 193847,
     "status": "ok",
     "timestamp": 1640954941319,
     "user": {
      "displayName": "강민규",
      "photoUrl": "https://lh3.googleusercontent.com/a/default-user=s64",
      "userId": "00315736574293164168"
     },
     "user_tz": -540
    },
    "id": "JLCWvyRb4JZl",
    "outputId": "80c0e47f-76a5-4572-c38a-3164f45e31ab"
   },
   "outputs": [
    {
     "name": "stdout",
     "output_type": "stream",
     "text": [
      "Decision Tree train dataset score : \t0.983\n",
      "Decision Tree test dataset score : \t0.23550257731958762\n",
      "Random Forest train dataset score : \t0.998\n",
      "Random Forest test dataset score : \t0.029639175257731958\n"
     ]
    }
   ],
   "source": [
    "from sklearn.tree import DecisionTreeClassifier\n",
    "from sklearn.ensemble import RandomForestClassifier\n",
    "\n",
    "tree = DecisionTreeClassifier(max_depth=30, random_state=30)\n",
    "tree.fit(train_features, train_label)\n",
    "\n",
    "forest = RandomForestClassifier(n_estimators=100, random_state=2, n_jobs=8)\n",
    "forest.fit(train_features, train_label)\n",
    "\n",
    "print(\"Decision Tree train dataset score : \\t{}\".format(tree.score(train_features, train_label)))\n",
    "print(\"Decision Tree test dataset score : \\t{}\".format(tree.score(val_features, val_label)))\n",
    "print(\"Random Forest train dataset score : \\t{}\".format(forest.score(train_features, train_label)))\n",
    "print(\"Random Forest test dataset score : \\t{}\".format(forest.score(val_features, val_label)))"
   ]
  },
  {
   "cell_type": "code",
   "execution_count": 16,
   "metadata": {
    "executionInfo": {
     "elapsed": 3,
     "status": "aborted",
     "timestamp": 1640954942836,
     "user": {
      "displayName": "강민규",
      "photoUrl": "https://lh3.googleusercontent.com/a/default-user=s64",
      "userId": "00315736574293164168"
     },
     "user_tz": -540
    },
    "id": "8qSTKJwr4yBe"
   },
   "outputs": [
    {
     "ename": "ValueError",
     "evalue": "Length of feature_names, 156 does not match number of features, 142",
     "output_type": "error",
     "traceback": [
      "\u001b[0;31m---------------------------------------------------------------------------\u001b[0m",
      "\u001b[0;31mValueError\u001b[0m                                Traceback (most recent call last)",
      "\u001b[0;32m<ipython-input-16-fc3264d19f27>\u001b[0m in \u001b[0;36m<module>\u001b[0;34m\u001b[0m\n\u001b[1;32m      1\u001b[0m \u001b[0;32mfrom\u001b[0m \u001b[0msklearn\u001b[0m\u001b[0;34m.\u001b[0m\u001b[0mtree\u001b[0m \u001b[0;32mimport\u001b[0m \u001b[0mexport_graphviz\u001b[0m\u001b[0;34m\u001b[0m\u001b[0;34m\u001b[0m\u001b[0m\n\u001b[1;32m      2\u001b[0m \u001b[0;34m\u001b[0m\u001b[0m\n\u001b[0;32m----> 3\u001b[0;31m export_graphviz(\n\u001b[0m\u001b[1;32m      4\u001b[0m         \u001b[0mtree\u001b[0m\u001b[0;34m,\u001b[0m\u001b[0;34m\u001b[0m\u001b[0;34m\u001b[0m\u001b[0m\n\u001b[1;32m      5\u001b[0m         \u001b[0mout_file\u001b[0m\u001b[0;34m=\u001b[0m\u001b[0;34m\"tree.dot\"\u001b[0m\u001b[0;34m,\u001b[0m\u001b[0;34m\u001b[0m\u001b[0;34m\u001b[0m\u001b[0m\n",
      "\u001b[0;32m~/anaconda3/lib/python3.8/site-packages/sklearn/utils/validation.py\u001b[0m in \u001b[0;36minner_f\u001b[0;34m(*args, **kwargs)\u001b[0m\n\u001b[1;32m     61\u001b[0m             \u001b[0mextra_args\u001b[0m \u001b[0;34m=\u001b[0m \u001b[0mlen\u001b[0m\u001b[0;34m(\u001b[0m\u001b[0margs\u001b[0m\u001b[0;34m)\u001b[0m \u001b[0;34m-\u001b[0m \u001b[0mlen\u001b[0m\u001b[0;34m(\u001b[0m\u001b[0mall_args\u001b[0m\u001b[0;34m)\u001b[0m\u001b[0;34m\u001b[0m\u001b[0;34m\u001b[0m\u001b[0m\n\u001b[1;32m     62\u001b[0m             \u001b[0;32mif\u001b[0m \u001b[0mextra_args\u001b[0m \u001b[0;34m<=\u001b[0m \u001b[0;36m0\u001b[0m\u001b[0;34m:\u001b[0m\u001b[0;34m\u001b[0m\u001b[0;34m\u001b[0m\u001b[0m\n\u001b[0;32m---> 63\u001b[0;31m                 \u001b[0;32mreturn\u001b[0m \u001b[0mf\u001b[0m\u001b[0;34m(\u001b[0m\u001b[0;34m*\u001b[0m\u001b[0margs\u001b[0m\u001b[0;34m,\u001b[0m \u001b[0;34m**\u001b[0m\u001b[0mkwargs\u001b[0m\u001b[0;34m)\u001b[0m\u001b[0;34m\u001b[0m\u001b[0;34m\u001b[0m\u001b[0m\n\u001b[0m\u001b[1;32m     64\u001b[0m \u001b[0;34m\u001b[0m\u001b[0m\n\u001b[1;32m     65\u001b[0m             \u001b[0;31m# extra_args > 0\u001b[0m\u001b[0;34m\u001b[0m\u001b[0;34m\u001b[0m\u001b[0;34m\u001b[0m\u001b[0m\n",
      "\u001b[0;32m~/anaconda3/lib/python3.8/site-packages/sklearn/tree/_export.py\u001b[0m in \u001b[0;36mexport_graphviz\u001b[0;34m(decision_tree, out_file, max_depth, feature_names, class_names, label, filled, leaves_parallel, impurity, node_ids, proportion, rotate, rounded, special_characters, precision)\u001b[0m\n\u001b[1;32m    786\u001b[0m             \u001b[0mrounded\u001b[0m\u001b[0;34m=\u001b[0m\u001b[0mrounded\u001b[0m\u001b[0;34m,\u001b[0m \u001b[0mspecial_characters\u001b[0m\u001b[0;34m=\u001b[0m\u001b[0mspecial_characters\u001b[0m\u001b[0;34m,\u001b[0m\u001b[0;34m\u001b[0m\u001b[0;34m\u001b[0m\u001b[0m\n\u001b[1;32m    787\u001b[0m             precision=precision)\n\u001b[0;32m--> 788\u001b[0;31m         \u001b[0mexporter\u001b[0m\u001b[0;34m.\u001b[0m\u001b[0mexport\u001b[0m\u001b[0;34m(\u001b[0m\u001b[0mdecision_tree\u001b[0m\u001b[0;34m)\u001b[0m\u001b[0;34m\u001b[0m\u001b[0;34m\u001b[0m\u001b[0m\n\u001b[0m\u001b[1;32m    789\u001b[0m \u001b[0;34m\u001b[0m\u001b[0m\n\u001b[1;32m    790\u001b[0m         \u001b[0;32mif\u001b[0m \u001b[0mreturn_string\u001b[0m\u001b[0;34m:\u001b[0m\u001b[0;34m\u001b[0m\u001b[0;34m\u001b[0m\u001b[0m\n",
      "\u001b[0;32m~/anaconda3/lib/python3.8/site-packages/sklearn/tree/_export.py\u001b[0m in \u001b[0;36mexport\u001b[0;34m(self, decision_tree)\u001b[0m\n\u001b[1;32m    412\u001b[0m         \u001b[0;32mif\u001b[0m \u001b[0mself\u001b[0m\u001b[0;34m.\u001b[0m\u001b[0mfeature_names\u001b[0m \u001b[0;32mis\u001b[0m \u001b[0;32mnot\u001b[0m \u001b[0;32mNone\u001b[0m\u001b[0;34m:\u001b[0m\u001b[0;34m\u001b[0m\u001b[0;34m\u001b[0m\u001b[0m\n\u001b[1;32m    413\u001b[0m             \u001b[0;32mif\u001b[0m \u001b[0mlen\u001b[0m\u001b[0;34m(\u001b[0m\u001b[0mself\u001b[0m\u001b[0;34m.\u001b[0m\u001b[0mfeature_names\u001b[0m\u001b[0;34m)\u001b[0m \u001b[0;34m!=\u001b[0m \u001b[0mdecision_tree\u001b[0m\u001b[0;34m.\u001b[0m\u001b[0mn_features_\u001b[0m\u001b[0;34m:\u001b[0m\u001b[0;34m\u001b[0m\u001b[0;34m\u001b[0m\u001b[0m\n\u001b[0;32m--> 414\u001b[0;31m                 raise ValueError(\"Length of feature_names, %d \"\n\u001b[0m\u001b[1;32m    415\u001b[0m                                  \u001b[0;34m\"does not match number of features, %d\"\u001b[0m\u001b[0;34m\u001b[0m\u001b[0;34m\u001b[0m\u001b[0m\n\u001b[1;32m    416\u001b[0m                                  % (len(self.feature_names),\n",
      "\u001b[0;31mValueError\u001b[0m: Length of feature_names, 156 does not match number of features, 142"
     ]
    }
   ],
   "source": [
    "from sklearn.tree import export_graphviz\n",
    "\n",
    "export_graphviz(\n",
    "        tree,\n",
    "        out_file=\"tree.dot\",\n",
    "        feature_names=feature_name,\n",
    "        class_names=label_encoder.classes_,\n",
    "        rounded=True,\n",
    "        filled=True\n",
    "    )\n",
    "\n",
    "import graphviz\n",
    "with open(\"titanic.dot\") as f:\n",
    "    dot_graph = f.read()\n",
    "dot = graphviz.Source(dot_graph)\n",
    "dot.format = 'png'\n",
    "dot.render(filename='titanic_tree', directory='images/decision_trees', cleanup=True)\n",
    "dot"
   ]
  }
 ],
 "metadata": {
  "accelerator": "GPU",
  "colab": {
   "authorship_tag": "ABX9TyM1VIlpedV1v48bBzfVZIqe",
   "collapsed_sections": [],
   "name": "EDA.ipynb",
   "provenance": []
  },
  "kernelspec": {
   "display_name": "Python 3",
   "language": "python",
   "name": "python3"
  },
  "language_info": {
   "codemirror_mode": {
    "name": "ipython",
    "version": 3
   },
   "file_extension": ".py",
   "mimetype": "text/x-python",
   "name": "python",
   "nbconvert_exporter": "python",
   "pygments_lexer": "ipython3",
   "version": "3.8.5"
  }
 },
 "nbformat": 4,
 "nbformat_minor": 1
}
